{
 "cells": [
  {
   "cell_type": "markdown",
   "id": "3bb37a00",
   "metadata": {},
   "source": [
    "## Goals\n",
    "- Implement a model that can work with both images and video frames"
   ]
  },
  {
   "cell_type": "markdown",
   "id": "df0161ff",
   "metadata": {},
   "source": [
    "## Imports"
   ]
  },
  {
   "cell_type": "code",
   "execution_count": 1,
   "id": "bd6a0078",
   "metadata": {},
   "outputs": [],
   "source": [
    "# Basic\n",
    "import numpy as np\n",
    "import pandas as pd\n",
    "import matplotlib.pyplot as plt\n",
    "import seaborn as sns\n",
    "import cv2\n",
    "\n",
    "# Utilities\n",
    "import os\n",
    "\n",
    "# Notebook Utilities\n",
    "%matplotlib inline"
   ]
  },
  {
   "cell_type": "markdown",
   "id": "6eb3b24d",
   "metadata": {},
   "source": [
    "## Functions"
   ]
  },
  {
   "cell_type": "code",
   "execution_count": 2,
   "id": "da31a47f",
   "metadata": {},
   "outputs": [],
   "source": [
    "def get_color(event, x, y, flags, param):\n",
    "    '''Function to detect color in image/video frame and then display the color name \n",
    "    on the image.\n",
    "    '''\n",
    "    if type_ == 'image':\n",
    "        if event == cv2.EVENT_LBUTTONDOWN:\n",
    "            img = cv2.imread(path)\n",
    "            B = img[y,x,0]\n",
    "            G = img[y,x,1]\n",
    "            R = img[y,x,2]\n",
    "            \n",
    "            minimum = 10000\n",
    "\n",
    "            for i in range(len(data)):\n",
    "                d = abs(R - int(data.loc[i, \"R\"])) + abs(G - int(data.loc[i, \"G\"])) + abs(B - int(data.loc[i, \"B\"]))\n",
    "                if(d <= minimum):\n",
    "                    minimum = d\n",
    "                    cname = data.loc[i, \"Color\"]\n",
    "\n",
    "            cv2.putText(img, cname, (20, 20), 2 , 0.8, (255, 0, 0), 2)\n",
    "            cv2.imshow(type_, img)\n",
    "        \n",
    "    if type_ == 'video':\n",
    "        ret, img = video.read()\n",
    "        if event == cv2.EVENT_LBUTTONDOWN:\n",
    "            img = cv2.imread(path)\n",
    "            ret, img = video.read()\n",
    "            B = img[y,x,0]\n",
    "            G = img[y,x,1]\n",
    "            R = img[y,x,2]\n",
    "            \n",
    "            minimum = 10000\n",
    "            for i in range(len(data)):\n",
    "                d = abs(R - int(data.loc[i, \"R\"])) + abs(G - int(data.loc[i, \"G\"])) + abs(B - int(data.loc[i, \"B\"]))\n",
    "                if(d <= minimum):\n",
    "                    minimum = d\n",
    "                    cname = data.loc[i, \"Color\"]\n",
    "\n",
    "            cv2.putText(img, cname, (20, 20), 2 , 0.8, (255, 0, 0), 2)\n",
    "            cv2.imshow(type_, img)\n",
    "        cv2.imshow(type_, img)\n",
    "        "
   ]
  },
  {
   "cell_type": "markdown",
   "id": "215f7057",
   "metadata": {},
   "source": [
    "## Reading Data"
   ]
  },
  {
   "cell_type": "code",
   "execution_count": 3,
   "id": "37881cf5",
   "metadata": {},
   "outputs": [
    {
     "data": {
      "text/html": [
       "<div>\n",
       "<style scoped>\n",
       "    .dataframe tbody tr th:only-of-type {\n",
       "        vertical-align: middle;\n",
       "    }\n",
       "\n",
       "    .dataframe tbody tr th {\n",
       "        vertical-align: top;\n",
       "    }\n",
       "\n",
       "    .dataframe thead th {\n",
       "        text-align: right;\n",
       "    }\n",
       "</style>\n",
       "<table border=\"1\" class=\"dataframe\">\n",
       "  <thead>\n",
       "    <tr style=\"text-align: right;\">\n",
       "      <th></th>\n",
       "      <th>Color</th>\n",
       "      <th>Hex</th>\n",
       "      <th>R</th>\n",
       "      <th>G</th>\n",
       "      <th>B</th>\n",
       "    </tr>\n",
       "  </thead>\n",
       "  <tbody>\n",
       "    <tr>\n",
       "      <th>0</th>\n",
       "      <td>Air Force Blue (Raf)</td>\n",
       "      <td>#5d8aa8</td>\n",
       "      <td>93</td>\n",
       "      <td>138</td>\n",
       "      <td>168</td>\n",
       "    </tr>\n",
       "    <tr>\n",
       "      <th>1</th>\n",
       "      <td>Air Force Blue (Usaf)</td>\n",
       "      <td>#00308f</td>\n",
       "      <td>0</td>\n",
       "      <td>48</td>\n",
       "      <td>143</td>\n",
       "    </tr>\n",
       "    <tr>\n",
       "      <th>2</th>\n",
       "      <td>Air Superiority Blue</td>\n",
       "      <td>#72a0c1</td>\n",
       "      <td>114</td>\n",
       "      <td>160</td>\n",
       "      <td>193</td>\n",
       "    </tr>\n",
       "    <tr>\n",
       "      <th>3</th>\n",
       "      <td>Alabama Crimson</td>\n",
       "      <td>#a32638</td>\n",
       "      <td>163</td>\n",
       "      <td>38</td>\n",
       "      <td>56</td>\n",
       "    </tr>\n",
       "    <tr>\n",
       "      <th>4</th>\n",
       "      <td>Alice Blue</td>\n",
       "      <td>#f0f8ff</td>\n",
       "      <td>240</td>\n",
       "      <td>248</td>\n",
       "      <td>255</td>\n",
       "    </tr>\n",
       "  </tbody>\n",
       "</table>\n",
       "</div>"
      ],
      "text/plain": [
       "                   Color      Hex    R    G    B\n",
       "0   Air Force Blue (Raf)  #5d8aa8   93  138  168\n",
       "1  Air Force Blue (Usaf)  #00308f    0   48  143\n",
       "2   Air Superiority Blue  #72a0c1  114  160  193\n",
       "3        Alabama Crimson  #a32638  163   38   56\n",
       "4             Alice Blue  #f0f8ff  240  248  255"
      ]
     },
     "execution_count": 3,
     "metadata": {},
     "output_type": "execute_result"
    }
   ],
   "source": [
    "data = pd.read_csv('../data/interim/train.csv')\n",
    "data.head()"
   ]
  },
  {
   "cell_type": "code",
   "execution_count": 4,
   "id": "7454a0d7",
   "metadata": {},
   "outputs": [],
   "source": [
    "type_ = 'image'\n",
    "if type_ == 'image':\n",
    "    path = '../data/external/girlpic.jpg'\n",
    "    img = cv2.imread(path)\n",
    "elif type_ == 'video':\n",
    "    path = '../data/external/video.mp4'\n",
    "    video = cv2.VideoCapture(path)\n",
    "    ret, img = video.read()\n",
    "else:\n",
    "    print('Wrong Type')"
   ]
  },
  {
   "cell_type": "markdown",
   "id": "9565c774",
   "metadata": {},
   "source": [
    "## Operations"
   ]
  },
  {
   "cell_type": "code",
   "execution_count": 6,
   "id": "b6bf858a",
   "metadata": {},
   "outputs": [],
   "source": [
    "# setting window name\n",
    "cv2.namedWindow(type_)\n",
    "# showing image\n",
    "cv2.imshow(type_, img)\n",
    "# setting mouse event listener\n",
    "cv2.setMouseCallback(type_, get_color, {'type': type_, 'path':path})\n",
    "# setting Esc key for exit\n",
    "while True:\n",
    "    if cv2.waitKey(20) & 0xFF == 27:\n",
    "        break\n",
    "        \n",
    "if type_ == 'video':        \n",
    "    video.release()\n",
    "cv2.destroyAllWindows()"
   ]
  },
  {
   "cell_type": "markdown",
   "id": "4dfe97b5",
   "metadata": {},
   "source": [
    "## Conclusion\n",
    "- Successfully made app for color detection"
   ]
  }
 ],
 "metadata": {
  "kernelspec": {
   "display_name": "Python 3 (ipykernel)",
   "language": "python",
   "name": "python3"
  },
  "language_info": {
   "codemirror_mode": {
    "name": "ipython",
    "version": 3
   },
   "file_extension": ".py",
   "mimetype": "text/x-python",
   "name": "python",
   "nbconvert_exporter": "python",
   "pygments_lexer": "ipython3",
   "version": "3.10.6"
  }
 },
 "nbformat": 4,
 "nbformat_minor": 5
}
